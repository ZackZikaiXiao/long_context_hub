{
 "cells": [
  {
   "cell_type": "code",
   "execution_count": null,
   "metadata": {
    "application/vnd.databricks.v1+cell": {
     "cellMetadata": {
      "byteLimit": 2048000,
      "rowLimit": 10000
     },
     "inputWidgets": {},
     "nuid": "3f6b0930-ef25-4678-8a48-51cbb89b3741",
     "showTitle": false,
     "title": ""
    }
   },
   "outputs": [],
   "source": [
    "import subprocess\n",
    "import os\n"
   ]
  },
  {
   "cell_type": "code",
   "execution_count": null,
   "metadata": {
    "application/vnd.databricks.v1+cell": {
     "cellMetadata": {
      "byteLimit": 2048000,
      "rowLimit": 10000
     },
     "inputWidgets": {},
     "nuid": "3e80034f-9a65-402b-b844-dbf0664801d1",
     "showTitle": false,
     "title": ""
    }
   },
   "outputs": [],
   "source": [
    "base_path = \"/Volumes/main/default/default_volume/erikyzzhang/long_context\"\n",
    "data_path = base_path + \"/data\"\n",
    "model_path = base_path + \"/models\""
   ]
  },
  {
   "cell_type": "code",
   "execution_count": null,
   "metadata": {
    "application/vnd.databricks.v1+cell": {
     "cellMetadata": {
      "byteLimit": 2048000,
      "rowLimit": 10000
     },
     "inputWidgets": {},
     "nuid": "1881c5f2-43a4-4281-a41d-598f190bf0c5",
     "showTitle": false,
     "title": ""
    }
   },
   "outputs": [],
   "source": [
    "from datasets import load_dataset\n",
    "import os\n",
    "import shutil\n",
    "\n",
    "# 定义目标目录和缓存目录\n",
    "target_dir = data_path + 'redpajama'\n",
    "cache_dir = data_path + 'redpajama'\n",
    "\n",
    "\n",
    "# 设置缓存目录\n",
    "os.environ['HF_DATASETS_CACHE'] = cache_dir\n",
    "\n",
    "# 加载数据集，并指定缓存和下载目录\n",
    "dataset = load_dataset('togethercomputer/RedPajama-Data-1T-Sample', cache_dir=cache_dir, data_dir=target_dir)\n",
    "\n",
    "print(f\"Dataset downloaded to {target_dir}\")\n",
    "print(dataset)\n",
    "# 列出下载目录中的文件\n",
    "print(\"Files in target directory:\")\n",
    "for root, dirs, files in os.walk(target_dir):\n",
    "    for file in files:\n",
    "        print(os.path.join(root, file))\n",
    "\n"
   ]
  },
  {
   "cell_type": "code",
   "execution_count": null,
   "metadata": {
    "application/vnd.databricks.v1+cell": {
     "cellMetadata": {
      "byteLimit": 2048000,
      "rowLimit": 10000
     },
     "inputWidgets": {},
     "nuid": "ad2bf32d-c8b3-40c7-bdda-b16c203322f3",
     "showTitle": false,
     "title": ""
    }
   },
   "outputs": [],
   "source": [
    "# 下载LongAlpaca-12k.json数据集\n",
    "# os.makedirs(data_path + 'longalpaca', exist_ok=True)\n",
    "subprocess.run(['wget', 'https://huggingface.co/datasets/Yukang/LongAlpaca-12k/resolve/main/LongAlpaca-12k.json', '-P', data_path + 'longalpaca'], check=True)"
   ]
  },
  {
   "cell_type": "markdown",
   "metadata": {
    "application/vnd.databricks.v1+cell": {
     "cellMetadata": {},
     "inputWidgets": {},
     "nuid": "1a440de6-12fa-4db1-8d77-893dbff88c66",
     "showTitle": false,
     "title": ""
    }
   },
   "source": [
    "1.初始化环境"
   ]
  },
  {
   "cell_type": "code",
   "execution_count": null,
   "metadata": {
    "application/vnd.databricks.v1+cell": {
     "cellMetadata": {},
     "inputWidgets": {},
     "nuid": "7e3097b7-0c7a-4136-adb4-749bc2772df8",
     "showTitle": false,
     "title": ""
    }
   },
   "outputs": [],
   "source": [
    "# 安装modelscope\n",
    "subprocess.run(['pip', 'install', 'modelscope'], check=True)"
   ]
  },
  {
   "cell_type": "code",
   "execution_count": null,
   "metadata": {
    "application/vnd.databricks.v1+cell": {
     "cellMetadata": {
      "byteLimit": 2048000,
      "rowLimit": 10000
     },
     "inputWidgets": {},
     "nuid": "732690d2-ad52-4785-90e3-6a77b8f8e67c",
     "showTitle": false,
     "title": ""
    }
   },
   "outputs": [],
   "source": [
    "import transformers\n",
    "import torch\n",
    "from modelscope import snapshot_download\n",
    "\n",
    "model_id = snapshot_download(\"LLM-Research/Meta-Llama-3-8B-Instruct\", cache_dir=model_path)\n",
    "\n",
    "pipeline = transformers.pipeline(\n",
    "    \"text-generation\",\n",
    "    model=model_id,\n",
    "    model_kwargs={\"torch_dtype\": torch.bfloat16},\n",
    "    device=\"cuda\",\n",
    ")"
   ]
  },
  {
   "cell_type": "code",
   "execution_count": null,
   "metadata": {
    "application/vnd.databricks.v1+cell": {
     "cellMetadata": {
      "byteLimit": 2048000,
      "rowLimit": 10000
     },
     "inputWidgets": {},
     "nuid": "f5c0f0bc-b4a7-4dc4-970b-8d947cf9118b",
     "showTitle": false,
     "title": ""
    }
   },
   "outputs": [],
   "source": [
    "# 移动模型文件到models目录\n",
    "subprocess.run(['mv', base_path + '/models/LLM-Research/Meta-Llama-3-8B-Instruct', base_path + '/models/llama3-8B-8k'], check=True)\n",
    "\n",
    "# 安装requirements.txt中的依赖\n",
    "subprocess.run(['pip', 'install', '-r', 'requirements.txt'], check=True)\n",
    "# deepspeed\n",
    "!pip uninstall deepspeed\n",
    "!pip cache purge\n",
    "!DS_BUILD_CPU_ADAM=1  BUILD_UTILS=1  pip install deepspeed==0.14.0 -U\n",
    "\n",
    "# 安装flash-attn\n",
    "subprocess.run(['pip', 'install', 'flash-attn', '--no-build-isolation'], check=True)\n"
   ]
  },
  {
   "cell_type": "markdown",
   "metadata": {
    "application/vnd.databricks.v1+cell": {
     "cellMetadata": {},
     "inputWidgets": {},
     "nuid": "ee3ae722-232a-4c0f-93c8-35ffe1c89180",
     "showTitle": false,
     "title": ""
    }
   },
   "source": [
    "2.持续预训练"
   ]
  },
  {
   "cell_type": "code",
   "execution_count": null,
   "metadata": {
    "application/vnd.databricks.v1+cell": {
     "cellMetadata": {},
     "inputWidgets": {},
     "nuid": "8f0b6bff-82f7-4cf0-b446-243660541840",
     "showTitle": false,
     "title": ""
    }
   },
   "outputs": [],
   "source": [
    "import os\n",
    "import subprocess\n",
    "\n",
    "model_name_or_path = base_path + '/models/llama3-8B-8k'\n",
    "model_max_length = 16384 * 2\n",
    "output_dir = base_path + \"/models/llama3-8B-32k-ft\"\n",
    "data_path = base_path + \"/data/redpajama\"\n",
    "\n",
    "# 如果输出目录不存在，创建它\n",
    "if not os.path.exists(output_dir):\n",
    "    os.makedirs(output_dir)\n",
    "\n",
    "# 构建运行命令\n",
    "command = [\n",
    "    'torchrun', '--nproc_per_node=8', 'fine-tune.py',\n",
    "    '--data_path', data_path,\n",
    "    '--model_name_or_path', model_name_or_path,\n",
    "    '--model_max_length', str(model_max_length),\n",
    "    '--output_dir', output_dir\n",
    "]\n",
    "\n",
    "# 运行命令并打印输出\n",
    "with subprocess.Popen(command, stdout=subprocess.PIPE, stderr=subprocess.PIPE, text=True) as process:\n",
    "    for line in process.stdout:\n",
    "        print(line, end='')\n",
    "    for line in process.stderr:\n",
    "        print(line, end='')\n",
    "\n",
    "# 等待进程结束\n",
    "process.wait()\n",
    "\n",
    "# 检查进程返回码\n",
    "if process.returncode != 0:\n",
    "    print(f\"Process failed with return code {process.returncode}\")\n"
   ]
  },
  {
   "cell_type": "markdown",
   "metadata": {
    "application/vnd.databricks.v1+cell": {
     "cellMetadata": {},
     "inputWidgets": {},
     "nuid": "2d644bd6-d2c5-4370-b3b5-ae37beb57065",
     "showTitle": false,
     "title": ""
    }
   },
   "source": [
    "3.监督训练"
   ]
  },
  {
   "cell_type": "code",
   "execution_count": null,
   "metadata": {
    "application/vnd.databricks.v1+cell": {
     "cellMetadata": {},
     "inputWidgets": {},
     "nuid": "f1e7b111-6c64-47ca-9757-8c7df3be2a1d",
     "showTitle": false,
     "title": ""
    }
   },
   "outputs": [],
   "source": [
    "import os\n",
    "import subprocess\n",
    "\n",
    "# 设置参数\n",
    "model_name_or_path =  base_path + \"/models/llama3-8B-32k-ft\"\n",
    "model_max_length = 16384 * 2\n",
    "output_dir =  base_path + \"/models/llama3-8B-32k-ft-sft\"\n",
    "filter_mode = \"all\"\n",
    "data_path = base_path + \"/data/LongAlpaca-12k.json\"\n",
    "\n",
    "# 如果输出目录不存在，创建它\n",
    "if not os.path.exists(output_dir):\n",
    "    os.makedirs(output_dir)\n",
    "\n",
    "# 构建运行命令\n",
    "command = [\n",
    "    'torchrun', '--nproc_per_node=8', '--master_port=29501', 'supervised-fine-tune.py',\n",
    "    '--model_name_or_path', model_name_or_path,\n",
    "    '--data_path', data_path,\n",
    "    '--model_max_length', str(model_max_length),\n",
    "    '--filter_mode', filter_mode,\n",
    "    '--output_dir', output_dir\n",
    "]\n",
    "\n",
    "# 运行命令并实时打印输出\n",
    "with subprocess.Popen(command, stdout=subprocess.PIPE, stderr=subprocess.PIPE, text=True) as process:\n",
    "    for line in process.stdout:\n",
    "        print(line, end='')\n",
    "    for line in process.stderr:\n",
    "        print(line, end='')\n",
    "\n",
    "# 等待进程结束\n",
    "process.wait()\n",
    "\n",
    "# 检查进程返回码\n",
    "if process.returncode != 0:\n",
    "    print(f\"Process failed with return code {process.returncode}\")\n"
   ]
  },
  {
   "cell_type": "markdown",
   "metadata": {
    "application/vnd.databricks.v1+cell": {
     "cellMetadata": {},
     "inputWidgets": {},
     "nuid": "d9bc2ab2-b206-4744-bc53-df55519fb280",
     "showTitle": false,
     "title": ""
    }
   },
   "source": [
    "4.评估"
   ]
  },
  {
   "cell_type": "code",
   "execution_count": null,
   "metadata": {
    "application/vnd.databricks.v1+cell": {
     "cellMetadata": {},
     "inputWidgets": {},
     "nuid": "0328c225-176c-4e29-8c1e-bd4d533083b4",
     "showTitle": false,
     "title": ""
    }
   },
   "outputs": [],
   "source": [
    "import json\n",
    "import os\n",
    "import subprocess\n",
    "from IPython.display import display, clear_output\n",
    "\n",
    "# 设置相对路径\n",
    "relative_path = 'LongBench'\n",
    "# 获取当前工作目录\n",
    "current_dir = os.getcwd()\n",
    "# 组合成新的路径\n",
    "new_dir = os.path.join(current_dir, relative_path)\n",
    "# 切换到新的目录\n",
    "os.chdir(new_dir)\n",
    "\n",
    "# 定义模型名称和路径\n",
    "MODEL_NAME = \"llama3-8B-32k-ft-sft\"\n",
    "MODEL_PATH = base_path + \"/models/\" + MODEL_NAME\n",
    "MAX_LENGTH = 31000\n",
    "\n",
    "# 更新 model2path.json 文件\n",
    "display(\"Updating model2path.json...\")\n",
    "model2path_file = './config/model2path.json'\n",
    "with open(model2path_file, 'r') as file:\n",
    "    data = json.load(file)\n",
    "\n",
    "data[MODEL_NAME] = MODEL_PATH\n",
    "\n",
    "with open(model2path_file, 'w') as file:\n",
    "    json.dump(data, file, indent=4)\n",
    "\n",
    "# 更新 model2maxlen.json 文件\n",
    "display(\"Updating model2maxlen.json...\")\n",
    "model2maxlen_file = './config/model2maxlen.json'\n",
    "with open(model2maxlen_file, 'r') as file:\n",
    "    data = json.load(file)\n",
    "\n",
    "data[MODEL_NAME] = MAX_LENGTH\n",
    "\n",
    "with open(model2maxlen_file, 'w') as file:\n",
    "    json.dump(data, file, indent=4)\n",
    "\n",
    "# 更新 pred.py 文件中的 parse_args\n",
    "display(\"Updating pred.py...\")\n",
    "pred_file = './pred.py'\n",
    "with open(pred_file, 'r') as file:\n",
    "    lines = file.readlines()\n",
    "\n",
    "for i, line in enumerate(lines):\n",
    "    if 'choices=' in line:\n",
    "        lines.insert(i + 1, ' ' * 12 + f'\"{MODEL_NAME}\",\\n')\n",
    "        break\n",
    "\n",
    "with open(pred_file, 'w') as file:\n",
    "    file.writelines(lines)\n",
    "\n",
    "def run_subprocess(command):\n",
    "    process = subprocess.Popen(command, stdout=subprocess.PIPE, stderr=subprocess.PIPE, text=True, shell=True)\n",
    "    while True:\n",
    "        output = process.stdout.readline()\n",
    "        if output == \"\" and process.poll() is not None:\n",
    "            break\n",
    "        if output:\n",
    "            clear_output(wait=True)\n",
    "            display(output.strip())\n",
    "    rc = process.poll()\n",
    "    return rc\n",
    "\n",
    "# 运行模型预测\n",
    "display(\"Running model prediction...\")\n",
    "run_subprocess(['CUDA_VISIBLE_DEVICES=0,1,2,3,4,5,6,7 python ./pred.py --model ' + MODEL_NAME])\n",
    "\n",
    "# 运行模型评估\n",
    "display(\"Running model evaluation...\")\n",
    "run_subprocess(['python ./eval.py --model ' + MODEL_NAME])\n",
    "\n",
    "# 显示结果\n",
    "display(\"Displaying results...\")\n",
    "run_subprocess(['python analysis.py --filter ' + MODEL_NAME])\n",
    "\n",
    "display(\"Script execution completed.\")\n",
    "\n",
    "# 结果移动到Volume\n",
    "source_dir = os.path.join(\"./pred\", MODEL_NAME)\n",
    "target_dir = os.path.join(base_path, \"LongBench/pred\")\n",
    "if not os.path.exists(target_dir):\n",
    "    os.makedirs(target_dir)\n",
    "# 移动文件或目录\n",
    "shutil.move(source_dir, target_dir)\n"
   ]
  },
  {
   "cell_type": "markdown",
   "metadata": {
    "application/vnd.databricks.v1+cell": {
     "cellMetadata": {},
     "inputWidgets": {},
     "nuid": "5c0daea9-8bc9-416c-ba9a-40a537f5d967",
     "showTitle": false,
     "title": ""
    }
   },
   "source": []
  }
 ],
 "metadata": {
  "application/vnd.databricks.v1+notebook": {
   "dashboards": [],
   "environmentMetadata": null,
   "language": "python",
   "notebookMetadata": {
    "pythonIndentUnit": 4
   },
   "notebookName": "main",
   "widgets": {}
  },
  "kernelspec": {
   "display_name": "llm",
   "language": "python",
   "name": "python3"
  },
  "language_info": {
   "codemirror_mode": {
    "name": "ipython",
    "version": 3
   },
   "file_extension": ".py",
   "mimetype": "text/x-python",
   "name": "python",
   "nbconvert_exporter": "python",
   "pygments_lexer": "ipython3",
   "version": "3.12.2"
  }
 },
 "nbformat": 4,
 "nbformat_minor": 0
}
