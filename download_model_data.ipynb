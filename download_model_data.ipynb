{
 "cells": [
  {
   "cell_type": "code",
   "execution_count": null,
   "metadata": {},
   "outputs": [],
   "source": [
    "base_path = \"/Volumes/main/default/default_volume/erikyzzhang/long_context\"\n",
    "data_path = base_path + \"/data\"\n",
    "model_path = base_path + \"/models\""
   ]
  },
  {
   "cell_type": "code",
   "execution_count": null,
   "metadata": {},
   "outputs": [],
   "source": [
    "from datasets import load_dataset\n",
    "import os\n",
    "import shutil\n",
    "\n",
    "# 定义目标目录和缓存目录\n",
    "target_dir = data_path + 'redpajama'\n",
    "cache_dir = data_path + 'redpajama'\n",
    "\n",
    "\n",
    "# 设置缓存目录\n",
    "os.environ['HF_DATASETS_CACHE'] = cache_dir\n",
    "\n",
    "# 加载数据集，并指定缓存和下载目录\n",
    "dataset = load_dataset('togethercomputer/RedPajama-Data-1T-Sample', cache_dir=cache_dir, data_dir=target_dir)\n",
    "\n",
    "print(f\"Dataset downloaded to {target_dir}\")\n",
    "print(dataset)\n",
    "# 列出下载目录中的文件\n",
    "print(\"Files in target directory:\")\n",
    "for root, dirs, files in os.walk(target_dir):\n",
    "    for file in files:\n",
    "        print(os.path.join(root, file))"
   ]
  },
  {
   "cell_type": "code",
   "execution_count": null,
   "metadata": {},
   "outputs": [],
   "source": [
    "import subprocess\n",
    "# 下载LongAlpaca-12k.json数据集\n",
    "# os.makedirs(data_path + 'longalpaca', exist_ok=True)\n",
    "subprocess.run(['wget', 'https://huggingface.co/datasets/Yukang/LongAlpaca-12k/resolve/main/LongAlpaca-12k.json', '-P', data_path + 'longalpaca'], check=True)"
   ]
  },
  {
   "cell_type": "code",
   "execution_count": null,
   "metadata": {},
   "outputs": [],
   "source": [
    "# 安装modelscope\n",
    "subprocess.run(['pip', 'install', 'modelscope'], check=True)"
   ]
  },
  {
   "cell_type": "code",
   "execution_count": null,
   "metadata": {},
   "outputs": [],
   "source": [
    "import transformers\n",
    "import torch\n",
    "from modelscope import snapshot_download\n",
    "\n",
    "model_id = snapshot_download(\"LLM-Research/Meta-Llama-3-8B-Instruct\", cache_dir=model_path)\n",
    "# 移动模型文件到models目录\n",
    "subprocess.run(['mv', base_path + '/models/LLM-Research/Meta-Llama-3-8B-Instruct', base_path + '/models/llama3-8B-8k'], check=True)"
   ]
  }
 ],
 "metadata": {
  "language_info": {
   "name": "python"
  }
 },
 "nbformat": 4,
 "nbformat_minor": 2
}
